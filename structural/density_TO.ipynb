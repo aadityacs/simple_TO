{
  "cells": [
    {
      "cell_type": "markdown",
      "metadata": {
        "id": "view-in-github",
        "colab_type": "text"
      },
      "source": [
        "<a href=\"https://colab.research.google.com/github/aadityacs/simple_TO/blob/main/structural/density_TO.ipynb\" target=\"_parent\"><img src=\"https://colab.research.google.com/assets/colab-badge.svg\" alt=\"Open In Colab\"/></a>"
      ]
    },
    {
      "cell_type": "code",
      "source": [
        "!git clone https://github.com/aadityacs/simple_TO\n",
        "%cd simple_TO/structural/"
      ],
      "metadata": {
        "id": "xYDNTwy1_2-V"
      },
      "id": "xYDNTwy1_2-V",
      "execution_count": null,
      "outputs": []
    },
    {
      "cell_type": "code",
      "execution_count": null,
      "id": "a6885bc6-66e9-4a0d-b701-8f8a8c841dfa",
      "metadata": {
        "id": "a6885bc6-66e9-4a0d-b701-8f8a8c841dfa"
      },
      "outputs": [],
      "source": [
        "from typing import Tuple\n",
        "import functools\n",
        "import jax\n",
        "import numpy as np\n",
        "import jax.numpy as jnp\n",
        "from jax import value_and_grad\n",
        "\n",
        "import utils\n",
        "import mesher\n",
        "from material import StructuralMaterial\n",
        "import bcs\n",
        "import FE_routines as fe\n",
        "import mma\n",
        "import matplotlib.pyplot as plt\n",
        "import matplotlib as mpl\n",
        "mpl.rcParams['figure.dpi'] = 150\n",
        "\n",
        "_Ext = utils.Extent"
      ]
    },
    {
      "cell_type": "code",
      "execution_count": null,
      "id": "d2043bbc-fb0e-45b0-8c42-21e4661bc28e",
      "metadata": {
        "id": "d2043bbc-fb0e-45b0-8c42-21e4661bc28e"
      },
      "outputs": [],
      "source": [
        "bounding_box = mesher.BoundingBox(x=_Ext(0., 60.),\n",
        "                                  y= _Ext(0., 30.))\n",
        "nelx, nely = 40, 20 # number of elems along X and Y axis\n",
        "mesh = mesher.BilinearStructMesher(nelx = nelx, nely = nely,\n",
        "                                   bounding_box=bounding_box)"
      ]
    },
    {
      "cell_type": "code",
      "execution_count": null,
      "id": "e1232fc1",
      "metadata": {
        "id": "e1232fc1"
      },
      "outputs": [],
      "source": [
        "init_design = np.random.uniform(low=0., high=1., size = (mesh.num_elems, 1))"
      ]
    },
    {
      "cell_type": "code",
      "execution_count": null,
      "id": "05620d60-db6b-4b46-a4f3-78425f23278a",
      "metadata": {
        "id": "05620d60-db6b-4b46-a4f3-78425f23278a"
      },
      "outputs": [],
      "source": [
        "material = StructuralMaterial(youngs_modulus=1., poisson_ratio=0.3, mass_density=1.)"
      ]
    },
    {
      "cell_type": "code",
      "execution_count": null,
      "id": "29c99499-b633-4d80-b56a-4aae17331e64",
      "metadata": {
        "id": "29c99499-b633-4d80-b56a-4aae17331e64"
      },
      "outputs": [],
      "source": [
        "bc = bcs.get_sample_struct_bc(mesh, bcs.SturctBCs.MID_CANT_BEAM)"
      ]
    },
    {
      "cell_type": "code",
      "execution_count": null,
      "id": "eeb8b317-18c1-4519-b6b1-d5449e3b1c11",
      "metadata": {
        "id": "eeb8b317-18c1-4519-b6b1-d5449e3b1c11"
      },
      "outputs": [],
      "source": [
        "fe_solver = fe.FEA(mesh, material, bc)\n",
        "lossfn = fe_solver.loss_function  # takes in density of shape (num_elems,)"
      ]
    },
    {
      "cell_type": "code",
      "execution_count": null,
      "id": "dd55ef45-9dbe-41ed-966c-67942864ae8e",
      "metadata": {
        "id": "dd55ef45-9dbe-41ed-966c-67942864ae8e"
      },
      "outputs": [],
      "source": [
        "class Optimizer:\n",
        "  def __init__(self, lossfn, mesh):\n",
        "    self.lossfn, self.mesh = lossfn, mesh\n",
        "  #-----------------------#\n",
        "  def constraint_fn(self, density: jnp.ndarray,\n",
        "                        max_vol_frac: float) -> Tuple[jnp.ndarray, jnp.ndarray]:\n",
        "\n",
        "    def volume_constraint(density:jnp.ndarray)-> float:\n",
        "      occupied_volume = jnp.einsum('i,i->i',self.mesh.elem_area, density).sum()\n",
        "      volcons =  occupied_volume/(max_vol_frac*self.mesh.domain_volume) - 1.\n",
        "      return volcons\n",
        "    vc, dvc = value_and_grad(volume_constraint)(density.reshape((-1)))\n",
        "\n",
        "    return jnp.array([vc]).reshape((-1,1)), dvc.reshape((1,-1))\n",
        "  #-----------------------#\n",
        "  @functools.partial(jax.jit, static_argnums=(0,))\n",
        "  def objective_fn(self, density: jnp.ndarray)-> Tuple[jnp.ndarray, jnp.ndarray]:\n",
        "    obj, grad_obj = value_and_grad(self.lossfn)(density.reshape((-1)))\n",
        "    return jnp.array([obj]), grad_obj.reshape((-1, 1))\n",
        "  #-----------------------#\n",
        "  def optimize(self, init_geom, max_vol_frac: float,\n",
        "     max_iter: int, kkt_tol: float=1e-6, step_tol: float=1e-6,\n",
        "      move_limit: float=5e-2, plot_interval: int=5):\n",
        "\n",
        "    self.num_design_var = init_geom.shape[0]\n",
        "    self.design_var = init_geom\n",
        "    lower_bound = np.zeros((self.num_design_var, 1))\n",
        "    upper_bound = np.ones((self.num_design_var, 1))\n",
        "    mma_params = mma.MMAParams(\n",
        "        max_iter=max_iter,\n",
        "        kkt_tol=kkt_tol,\n",
        "        step_tol=step_tol,\n",
        "        move_limit=move_limit,\n",
        "        num_design_var=self.num_design_var,\n",
        "        num_cons=1,\n",
        "        lower_bound=lower_bound,\n",
        "        upper_bound=upper_bound,\n",
        "    )\n",
        "    mma_state = mma.init_mma(self.design_var, mma_params)\n",
        "\n",
        "    def plotfun(x, status = ''):\n",
        "      plt.figure()\n",
        "      plt.imshow(x.reshape((self.mesh.nelx, self.mesh.nely)).T, cmap='rainbow')\n",
        "      plt.title(status)\n",
        "      plt.show()\n",
        "    history = {'obj':[], 'vol_cons':[]}\n",
        "    # MMA Loop\n",
        "\n",
        "    while not mma_state.is_converged:\n",
        "      objective, grad_obj = self.objective_fn(mma_state.x)\n",
        "      constr, grad_cons = self.constraint_fn(mma_state.x, max_vol_frac)\n",
        "      mma_state = mma.update_mma(\n",
        "        mma_state, mma_params, objective, grad_obj, constr, grad_cons\n",
        "      )\n",
        "      status = (f'epoch {mma_state.epoch:d} obj {objective[0]:.2E} '\n",
        "                f'vol cons {constr[0,0]:.2E} ')\n",
        "      history['obj'].append(objective)\n",
        "      history['vol_cons'].append(constr[0,0])\n",
        "\n",
        "\n",
        "      print(status)\n",
        "      if mma_state.epoch%plot_interval == 0 or mma_state.epoch==1:\n",
        "        plotfun(mma_state.x, status)\n",
        "\n",
        "    return mma_state, history"
      ]
    },
    {
      "cell_type": "code",
      "execution_count": null,
      "id": "df4ac194-84a4-44c7-8ba9-2aa893c747e2",
      "metadata": {
        "id": "df4ac194-84a4-44c7-8ba9-2aa893c747e2"
      },
      "outputs": [],
      "source": [
        "optim = Optimizer(lossfn, mesh)\n",
        "\n",
        "mma_state, history = optim.optimize(init_design, max_vol_frac=0.5,\n",
        "                                    max_iter=151,\n",
        "                                    plot_interval=10)\n",
        "\n",
        "plt.show(block=True)"
      ]
    },
    {
      "cell_type": "code",
      "execution_count": null,
      "id": "19bbc72d-210e-4b5b-88fb-326476666a16",
      "metadata": {
        "id": "19bbc72d-210e-4b5b-88fb-326476666a16"
      },
      "outputs": [],
      "source": [
        "for k in history:\n",
        "  plt.figure()\n",
        "  plt.plot(history[k])\n",
        "  plt.xlabel('iter')\n",
        "  plt.ylabel(f'{k}')"
      ]
    },
    {
      "cell_type": "code",
      "execution_count": null,
      "id": "aa7eb17e-2a1e-46b4-8bf7-627bbdc9fb06",
      "metadata": {
        "id": "aa7eb17e-2a1e-46b4-8bf7-627bbdc9fb06"
      },
      "outputs": [],
      "source": []
    }
  ],
  "metadata": {
    "kernelspec": {
      "display_name": "Python 3 (ipykernel)",
      "language": "python",
      "name": "python3"
    },
    "language_info": {
      "codemirror_mode": {
        "name": "ipython",
        "version": 3
      },
      "file_extension": ".py",
      "mimetype": "text/x-python",
      "name": "python",
      "nbconvert_exporter": "python",
      "pygments_lexer": "ipython3",
      "version": "3.10.13"
    },
    "colab": {
      "provenance": [],
      "include_colab_link": true
    }
  },
  "nbformat": 4,
  "nbformat_minor": 5
}