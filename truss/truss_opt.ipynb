{
 "cells": [
  {
   "cell_type": "code",
   "execution_count": null,
   "metadata": {},
   "outputs": [],
   "source": [
    "\n",
    "from typing import Tuple\n",
    "import numpy as np\n",
    "import jax\n",
    "import jax.numpy as jnp\n",
    "import matplotlib.pyplot as plt\n",
    "\n",
    "import truss_examples as trex\n",
    "import truss_structure as trs\n",
    "import solver\n",
    "import mma\n",
    "import utils"
   ]
  },
  {
   "cell_type": "code",
   "execution_count": null,
   "metadata": {},
   "outputs": [],
   "source": [
    "truss_skel, bc = trex.get_sample_truss(trex.Samples.GRID_TRUSS)"
   ]
  },
  {
   "cell_type": "code",
   "execution_count": null,
   "metadata": {},
   "outputs": [],
   "source": [
    "init_truss_areas = 2e-3*jnp.ones((truss_skel.num_bars,))\n",
    "youngs_modulus = 1e9*jnp.ones((truss_skel.num_bars,))"
   ]
  },
  {
   "cell_type": "code",
   "execution_count": null,
   "metadata": {},
   "outputs": [],
   "source": [
    "truss_solver = solver.TrussSolver(truss_skel, bc)"
   ]
  },
  {
   "cell_type": "code",
   "execution_count": null,
   "metadata": {},
   "outputs": [],
   "source": [
    "u = truss_solver.solve(youngs_modulus, init_truss_areas)\n",
    "init_vol = truss_solver.get_volume(init_truss_areas)\n",
    "fig, ax = plt.subplots(1, 1)\n",
    "title_str = f'volume: {init_vol:.2E}'\n",
    "trs.plot_truss(truss_skel, bc,\n",
    "          area = init_truss_areas,\n",
    "          node_displacements = u,\n",
    "          ax = ax,\n",
    "          title_str = title_str)"
   ]
  },
  {
   "cell_type": "code",
   "execution_count": null,
   "metadata": {},
   "outputs": [],
   "source": [
    "area_extent = utils.Extent(min=5e-8, max=5e-2)\n",
    "init_des_var = utils.normalize(init_truss_areas, area_extent)"
   ]
  },
  {
   "cell_type": "code",
   "execution_count": null,
   "metadata": {},
   "outputs": [],
   "source": [
    "class Optimizer:\n",
    "  def __init__(self, truss_solver: solver.TrussSolver,):\n",
    "    self.truss_solver = truss_solver\n",
    "\n",
    "\n",
    "  def constraint_fn(self, design_var: jnp.ndarray,\n",
    "                        max_vol: float) -> Tuple[jnp.ndarray, jnp.ndarray]:\n",
    "\n",
    "    def volume_constraint(design_var: jnp.ndarray) -> float:\n",
    "      bar_area = utils.unnormalize(design_var, area_extent)\n",
    "      occupied_volume = truss_solver.get_volume(bar_area)\n",
    "      return (occupied_volume/max_vol) - 1., occupied_volume\n",
    "\n",
    "    (vc, vol), dvc = jax.value_and_grad(volume_constraint, has_aux=True\n",
    "                                        )(design_var.reshape((-1)))\n",
    "    return jnp.array([vc]).reshape((-1,1)), dvc.reshape((1,-1)), vol\n",
    "\n",
    "\n",
    "  def objective_fn(self, design_var: jnp.ndarray)-> Tuple[jnp.ndarray, jnp.ndarray]:\n",
    "    \n",
    "    def loss_wrapper(design_var):\n",
    "      bar_area = utils.unnormalize(design_var, area_extent)\n",
    "      u = truss_solver.solve(youngs_modulus, bar_area)\n",
    "      return truss_solver.compute_compliance(u), u\n",
    "\n",
    "    (obj, u), grad_obj = jax.value_and_grad(loss_wrapper, has_aux=True)(\n",
    "                                                      design_var.reshape((-1)))\n",
    "    return jnp.array([obj]), grad_obj.reshape((-1, 1)), u\n",
    "\n",
    "\n",
    "  def optimize(self, init_geom,\n",
    "               max_vol: float,\n",
    "               max_iter: int,\n",
    "               kkt_tol: float=1e-6,\n",
    "               step_tol: float=1e-6,\n",
    "               move_limit: float=5e-3,\n",
    "               plot_interval: int=5):\n",
    "\n",
    "    self.num_design_var = init_geom.shape[0]\n",
    "    self.design_var = init_geom\n",
    "    lower_bound = np.zeros((self.num_design_var, 1))\n",
    "    upper_bound = np.ones((self.num_design_var, 1))\n",
    "    mma_params = mma.MMAParams(\n",
    "        max_iter=max_iter,\n",
    "        kkt_tol=kkt_tol,\n",
    "        step_tol=step_tol,\n",
    "        move_limit=move_limit,\n",
    "        num_design_var=self.num_design_var,\n",
    "        num_cons=1,\n",
    "        lower_bound=lower_bound,\n",
    "        upper_bound=upper_bound,\n",
    "    )\n",
    "    mma_state = mma.init_mma(self.design_var, mma_params)\n",
    "\n",
    "    def plotfun(areas, u, status = ''):\n",
    "      fig, ax = plt.subplots(1, 1)\n",
    "      trs.plot_truss(truss_skel, bc,\n",
    "          area = areas,\n",
    "          node_displacements = u,\n",
    "          ax = ax,\n",
    "          title_str = status)\n",
    "      plt.show()\n",
    "    history = {'obj':[], 'vol_cons':[]}\n",
    "    # MMA Loop\n",
    "\n",
    "    while not mma_state.is_converged:\n",
    "      objective, grad_obj, u = self.objective_fn(mma_state.x)\n",
    "      constr, grad_cons, vol = self.constraint_fn(mma_state.x, max_vol)\n",
    "      mma_state.x = np.array(mma_state.x).reshape((-1,1))\n",
    "      mma_state = mma.update_mma(\n",
    "        mma_state, mma_params, objective, grad_obj, constr, grad_cons\n",
    "      )\n",
    "      status = (f'epoch {mma_state.epoch:d} obj {objective[0]:.2E} '\n",
    "                f'vol {vol:.2E} ')\n",
    "      history['obj'].append(objective)\n",
    "      history['vol_cons'].append(constr[0,0])\n",
    "\n",
    "      print(status)\n",
    "      if mma_state.epoch%plot_interval == 0 or mma_state.epoch==1:\n",
    "        bar_area = utils.unnormalize(mma_state.x, area_extent)\n",
    "        plotfun(bar_area, u, status)\n",
    "\n",
    "    return mma_state, history"
   ]
  },
  {
   "cell_type": "code",
   "execution_count": null,
   "metadata": {},
   "outputs": [],
   "source": [
    "opt = Optimizer(truss_solver)"
   ]
  },
  {
   "cell_type": "code",
   "execution_count": null,
   "metadata": {},
   "outputs": [],
   "source": [
    "mma_state, history = opt.optimize(init_geom=init_des_var.reshape((-1,1)),\n",
    "                                  max_vol = init_vol,\n",
    "                                  max_iter=400,\n",
    "                                  plot_interval=30)"
   ]
  },
  {
   "cell_type": "code",
   "execution_count": null,
   "metadata": {},
   "outputs": [],
   "source": []
  }
 ],
 "metadata": {
  "kernelspec": {
   "display_name": "jaxenv",
   "language": "python",
   "name": "python3"
  },
  "language_info": {
   "codemirror_mode": {
    "name": "ipython",
    "version": 3
   },
   "file_extension": ".py",
   "mimetype": "text/x-python",
   "name": "python",
   "nbconvert_exporter": "python",
   "pygments_lexer": "ipython3",
   "version": "3.10.13"
  }
 },
 "nbformat": 4,
 "nbformat_minor": 2
}
